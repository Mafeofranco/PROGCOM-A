{
  "nbformat": 4,
  "nbformat_minor": 0,
  "metadata": {
    "colab": {
      "provenance": []
    },
    "kernelspec": {
      "name": "python3",
      "display_name": "Python 3"
    },
    "language_info": {
      "name": "python"
    }
  },
  "cells": [
    {
      "cell_type": "code",
      "source": [
        "productos = {}\n",
        "\n",
        "def agregar_producto(nombre, cantidad):\n",
        "    if nombre in productos:\n",
        "        productos[nombre] += cantidad\n",
        "    else:\n",
        "        productos[nombre] = cantidad\n",
        "    print(f\"Producto '{nombre}' agregado con {cantidad} unidades.\")\n",
        "\n",
        "def mostrar_inventario():\n",
        "    if not productos:\n",
        "        print(\"El inventario está vacío.\")\n",
        "    else:\n",
        "        print(\"\\nInventario Actual:\")\n",
        "        for producto, cantidad in productos.items():\n",
        "            print(f\"{producto}: {cantidad} unidades\")\n",
        "\n",
        "def generar_reporte():\n",
        "    total_productos = sum(productos.values())\n",
        "    print(\"\\n--- Reporte Final ---\")\n",
        "    print(f\"Total de productos: {total_productos}\")\n",
        "    mostrar_inventario()\n",
        "\n",
        "def main():\n",
        "    while True:\n",
        "        print(\"\\n1. Agregar producto\")\n",
        "        print(\"2. Mostrar inventario\")\n",
        "        print(\"3. Generar reporte final\")\n",
        "        print(\"4. Salir\")\n",
        "        opcion = input(\"Seleccione una opción: \")\n",
        "\n",
        "        if opcion == '1':\n",
        "            nombre = input(\"Nombre del producto: \")\n",
        "            try:\n",
        "                cantidad = int(input(\"Cantidad: \"))\n",
        "                agregar_producto(nombre, cantidad)\n",
        "            except ValueError:\n",
        "                print(\"Por favor, ingrese un número válido.\")\n",
        "        elif opcion == '2':\n",
        "            mostrar_inventario()\n",
        "        elif opcion == '3':\n",
        "            generar_reporte()\n",
        "        elif opcion == '4':\n",
        "            print(\"Saliendo del programa.\")\n",
        "            break\n",
        "        else:\n",
        "            print(\"Opción no válida. Intente de nuevo.\")\n",
        "\n",
        "if __name__ == \"__main__\":\n",
        "    main()\n"
      ],
      "metadata": {
        "colab": {
          "base_uri": "https://localhost:8080/"
        },
        "id": "q_f3efnhx3dU",
        "outputId": "f843f2e8-9cb8-415e-e34a-39aaa49a1ee5"
      },
      "execution_count": null,
      "outputs": [
        {
          "output_type": "stream",
          "name": "stdout",
          "text": [
            "\n",
            "1. Agregar producto\n",
            "2. Mostrar inventario\n",
            "3. Generar reporte final\n",
            "4. Salir\n",
            "Seleccione una opción: 1\n",
            "Nombre del producto: cafe\n",
            "Cantidad: 2\n",
            "Producto 'cafe' agregado con 2 unidades.\n",
            "\n",
            "1. Agregar producto\n",
            "2. Mostrar inventario\n",
            "3. Generar reporte final\n",
            "4. Salir\n",
            "Seleccione una opción: 2\n",
            "\n",
            "Inventario Actual:\n",
            "cafe: 2 unidades\n",
            "\n",
            "1. Agregar producto\n",
            "2. Mostrar inventario\n",
            "3. Generar reporte final\n",
            "4. Salir\n",
            "Seleccione una opción: 3\n",
            "\n",
            "--- Reporte Final ---\n",
            "Total de productos: 2\n",
            "\n",
            "Inventario Actual:\n",
            "cafe: 2 unidades\n",
            "\n",
            "1. Agregar producto\n",
            "2. Mostrar inventario\n",
            "3. Generar reporte final\n",
            "4. Salir\n"
          ]
        }
      ]
    }
  ]
}