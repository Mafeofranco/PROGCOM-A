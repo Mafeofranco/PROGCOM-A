{
  "nbformat": 4,
  "nbformat_minor": 0,
  "metadata": {
    "colab": {
      "provenance": []
    },
    "kernelspec": {
      "name": "python3",
      "display_name": "Python 3"
    },
    "language_info": {
      "name": "python"
    }
  },
  "cells": [
    {
      "cell_type": "code",
      "execution_count": null,
      "metadata": {
        "colab": {
          "base_uri": "https://localhost:8080/"
        },
        "id": "e6vQuhtq2Nta",
        "outputId": "f16ff7fb-877a-4387-f395-1704d65fedc3"
      },
      "outputs": [
        {
          "output_type": "stream",
          "name": "stdout",
          "text": [
            "Elige una opción: piedra, papel, tijera, lagarto o spock\n",
            "Tu elección: papel\n",
            "La computadora eligió: spock\n",
            "\u001b[32m¡Ganaste! 😀\u001b[0m\n"
          ]
        }
      ],
      "source": [
        "import random\n",
        "\n",
        "opciones = [\"piedra\", \"papel\", \"tijera\", \"lagarto\", \"spock\"]\n",
        "\n",
        "resultados = {\n",
        "    (\"piedra\", \"tijera\"): \"gana\",\n",
        "    (\"piedra\", \"lagarto\"): \"gana\",\n",
        "    (\"papel\", \"piedra\"): \"gana\",\n",
        "    (\"papel\", \"spock\"): \"gana\",\n",
        "    (\"tijera\", \"papel\"): \"gana\",\n",
        "    (\"tijera\", \"lagarto\"): \"gana\",\n",
        "    (\"lagarto\", \"papel\"): \"gana\",\n",
        "    (\"lagarto\", \"spock\"): \"gana\",\n",
        "    (\"spock\", \"piedra\"): \"gana\",\n",
        "    (\"spock\", \"tijera\"): \"gana\"\n",
        "}\n",
        "\n",
        "def jugar():\n",
        "    print(\"Elige una opción: piedra, papel, tijera, lagarto o spock\")\n",
        "    jugador = input(\"Tu elección: \").lower()\n",
        "\n",
        "    if jugador not in opciones:\n",
        "        print(\"Opción no válida. Intenta de nuevo.\")\n",
        "        return\n",
        "\n",
        "    computadora = random.choice(opciones)\n",
        "    print(f\"La computadora eligió: {computadora}\")\n",
        "\n",
        "    if jugador == computadora:\n",
        "        print(\"\\033[33m¡Es un empate! 😐\\033[0m\")\n",
        "    elif (jugador, computadora) in resultados:\n",
        "        print(\"\\033[32m¡Ganaste! 😀\\033[0m\")\n",
        "    else:\n",
        "        print(\"\\033[31mPerdiste... 😢\\033[0m\")\n",
        "\n",
        "def main():\n",
        "    while True:\n",
        "        jugar()\n",
        "        otra_vez = input(\"¿Quieres jugar de nuevo? (s/n): \").lower()\n",
        "        if otra_vez != 's':\n",
        "            print(\"Gracias por jugar. ¡Hasta luego!\")\n",
        "            break\n",
        "\n",
        "if __name__ == \"__main__\":\n",
        "    main()\n"
      ]
    }
  ]
}