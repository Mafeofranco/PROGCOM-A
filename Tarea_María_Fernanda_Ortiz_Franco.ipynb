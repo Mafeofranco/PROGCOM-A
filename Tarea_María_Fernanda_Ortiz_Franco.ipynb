{
  "cells": [
    {
      "cell_type": "code",
      "execution_count": null,
      "metadata": {
        "id": "5h6REDXkfAvG"
      },
      "outputs": [],
      "source": [
        "# 1. Conversión de Celsius a Fahrenheit\n",
        "c= float(input('Digita la temperatura en grados Celsius: '))\n",
        "f = (c * 9/5) + 32\n",
        "print(f'\\nLa temperatura en Fahrenheit es: {f}')"
      ]
    },
    {
      "cell_type": "code",
      "execution_count": null,
      "metadata": {
        "id": "5mhHpVuJyj8Z"
      },
      "outputs": [],
      "source": [
        "# 2. Cálculo del promedio de tres números\n",
        "num1 = float(input(\"Digita el primer número: \"))\n",
        "num2 = float(input(\"Digita el segundo número: \"))\n",
        "num3 = float(input(\"Digita el tercer número: \"))\n",
        "promedio = (num1 + num2 + num3) / 3\n",
        "print(f\"\\nEl promedio de los tres números es: {promedio}\\n\")"
      ]
    },
    {
      "cell_type": "code",
      "execution_count": null,
      "metadata": {
        "id": "u28Fqv-KfG0t"
      },
      "outputs": [],
      "source": [
        "# 3. Perímetro y área de un círculo\n",
        "import math\n",
        "radio = float(input(\"Digita el radio del círculo: \"))\n",
        "perimetro = 2 * math.pi * radio\n",
        "area = math.pi * (radio ** 2)\n",
        "print(f\"\\nEl perímetro del círculo es: {perimetro}\\nEl área del círculo es: {area}\\n\")"
      ]
    },
    {
      "cell_type": "code",
      "execution_count": null,
      "metadata": {
        "colab": {
          "base_uri": "https://localhost:8080/"
        },
        "id": "zNO5zwszSOoo",
        "outputId": "9654b436-d233-4204-87df-9f2a034a107c"
      },
      "outputs": [
        {
          "name": "stdout",
          "output_type": "stream",
          "text": [
            "Ingresa un año: 2024\n",
            "\n",
            "Es bisiesto\n",
            "\n"
          ]
        }
      ],
      "source": [
        "\n",
        "# 7.1 Determinar si un año es bisiesto (if y else en líneas separadas)\n",
        "año = int(input(\"Digita un año: \"))\n",
        "if (año % 4 == 0 and año % 100 != 0) or (año % 400 == 0):\n",
        "    print(\"\\nEs bisiesto\\n\")\n",
        "else:\n",
        "    print(\"\\nNo es bisiesto\\n\")"
      ]
    },
    {
      "cell_type": "code",
      "execution_count": null,
      "metadata": {
        "id": "acg2LU5lSrMW"
      },
      "outputs": [],
      "source": [
        "# 7.2 Determinar si un año es bisiesto (if y else en la misma línea)\n",
        "año = int(input(\"Digita un año: \"))\n",
        "print(\"\\nEs bisiesto\\n\") if (año % 4 == 0 and año % 100 != 0) or (año % 400 == 0) else print(\"\\nNo es bisiesto\\n\")"
      ]
    },
    {
      "cell_type": "code",
      "execution_count": null,
      "metadata": {
        "id": "0cLZwNloSw6Y"
      },
      "outputs": [],
      "source": [
        "# 8.1 Determinar si una persona es de tercera edad (if y else en líneas separadas)\n",
        "nombre = input(\"Digita tu nombre: \")\n",
        "edad = int(input(\"Digita tu edad: \"))\n",
        "if edad >= 70:\n",
        "    print(f\"\\n{nombre}, tienes prioridad en la fila\\n\")\n",
        "else:\n",
        "    print(f\"\\n{nombre}, no tienes prioridad en la fila\\n\")"
      ]
    },
    {
      "cell_type": "code",
      "execution_count": null,
      "metadata": {
        "id": "OBUPcr_uS_nG"
      },
      "outputs": [],
      "source": [
        "\n",
        "# 8.2 Determinar si una persona es de tercera edad (if y else en la misma línea)\n",
        "nombre = input(\"Digita tu nombre: \")\n",
        "edad = int(input(\"Digita tu edad: \"))\n",
        "print(f\"\\n{nombre}, tienes prioridad en la fila\\n\") if edad >= 70 else print(f\"\\n{nombre}, no tienes prioridad en la fila\\n\")"
      ]
    },
    {
      "cell_type": "code",
      "execution_count": null,
      "metadata": {
        "id": "WJKKi2mqTL3O"
      },
      "outputs": [],
      "source": [
        "# 9.1 Comparar tres números y mostrar el mayor (if y else en líneas separadas)\n",
        "n1 = float(input(\"Digita el primer número: \"))\n",
        "n2 = float(input(\"Digita el segundo número: \"))\n",
        "n3 = float(input(\"Digita el tercer número: \"))\n",
        "if n1 > n2 and n1 > n3:\n",
        "    print(f\"\\nEl número mayor es: {n1}\\n\")\n",
        "else:\n",
        "    if n2 > n3:\n",
        "        print(f\"\\nEl número mayor es: {n2}\\n\")\n",
        "    else:\n",
        "        print(f\"\\nEl número mayor es: {n3}\\n\")\n"
      ]
    },
    {
      "cell_type": "code",
      "execution_count": null,
      "metadata": {
        "id": "ALXhcCx3SaX6"
      },
      "outputs": [],
      "source": [
        "# 9.2 Comparar tres números y mostrar el mayor (if y else en la misma línea)\n",
        "n1 = float(input(\"Digita el primer número: \"))\n",
        "n2 = float(input(\"Digita el segundo número: \"))\n",
        "n3 = float(input(\"Digita el tercer número: \"))\n",
        "print(f\"\\nEl número mayor es: {n1}\\n\") if n1 > n2 and n1 > n3 else print(f\"\\nEl número mayor es: {n2}\\n\") if n2 > n3 else print(f\"\\nEl número mayor es: {n3}\\n\")"
      ]
    },
    {
      "cell_type": "code",
      "execution_count": 1,
      "metadata": {
        "colab": {
          "base_uri": "https://localhost:8080/"
        },
        "id": "2JxRV3l7Tr3m",
        "outputId": "f8e9ee5f-4c46-423d-b3f1-063c5c9238ff"
      },
      "outputs": [
        {
          "output_type": "stream",
          "name": "stdout",
          "text": [
            "Digita el primer lado: 45\n",
            "Digita el segundo lado: 56\n",
            "Digita el tercer lado: 45\n",
            "Isósceles\n"
          ]
        }
      ],
      "source": [
        "# 10.1 Determinar el tipo de triángulo (if y else en líneas separadas)\n",
        "a = float(input(\"Digita el primer lado: \"))\n",
        "b = float(input(\"Digita el segundo lado: \"))\n",
        "c = float(input(\"Digita el tercer lado: \"))\n",
        "if a == b and b == c:\n",
        "    print(\"Equilátero\")\n",
        "else:\n",
        "    if a == b or a == c or b == c:\n",
        "        print(\"Isósceles\")\n",
        "    else:\n",
        "        print(\"Escaleno\")\n"
      ]
    },
    {
      "cell_type": "code",
      "execution_count": null,
      "metadata": {
        "id": "it_aR_QjSmDL"
      },
      "outputs": [],
      "source": [
        "\n",
        "# 10.2 Determinar el tipo de triángulo (if y else en la misma línea)\n",
        "a = float(input(\"Digita el primer lado: \"))\n",
        "b = float(input(\"Digita el segundo lado: \"))\n",
        "c = float(input(\"Digita el tercer lado: \"))\n",
        "print(\"\\nEquilátero\\n\") if a == b and b == c else print(\"\\nIsósceles\\n\") if a == b or a == c or b == c else print(\"\\nEscaleno\\n\")\n"
      ]
    }
  ],
  "metadata": {
    "colab": {
      "provenance": []
    },
    "kernelspec": {
      "display_name": "Python 3",
      "name": "python3"
    },
    "language_info": {
      "name": "python"
    }
  },
  "nbformat": 4,
  "nbformat_minor": 0
}