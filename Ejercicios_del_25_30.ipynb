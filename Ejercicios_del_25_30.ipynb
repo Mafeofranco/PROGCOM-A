{
  "nbformat": 4,
  "nbformat_minor": 0,
  "metadata": {
    "colab": {
      "provenance": []
    },
    "kernelspec": {
      "name": "python3",
      "display_name": "Python 3"
    },
    "language_info": {
      "name": "python"
    }
  },
  "cells": [
    {
      "cell_type": "markdown",
      "source": [
        "Ejercicio 25"
      ],
      "metadata": {
        "id": "FQT0vN7-S2q2"
      }
    },
    {
      "cell_type": "code",
      "source": [
        "potencia = lambda base, exponente: 1 if exponente == 0 else base * potencia(base, exponente - 1)\n",
        "\n",
        "# Mafe aqui están las variables de base y exponente\n",
        "base = 3\n",
        "exponente = 4\n",
        "\n",
        "# Mafe aqui se hace el print\n",
        "resultado = potencia(base, exponente)\n",
        "print(f\"{base} elevado a {exponente} es: {resultado}\")\n"
      ],
      "metadata": {
        "colab": {
          "base_uri": "https://localhost:8080/"
        },
        "id": "jPk3RI7lRkAh",
        "outputId": "f844dd87-4b7d-4d08-c37b-964881a41dcc"
      },
      "execution_count": 3,
      "outputs": [
        {
          "output_type": "stream",
          "name": "stdout",
          "text": [
            "3 elevado a 4 es: 81\n"
          ]
        }
      ]
    },
    {
      "cell_type": "code",
      "source": [
        "def calcular_potencia(base, exponente):\n",
        "    resultado = 1\n",
        "    for _ in range(abs(exponente)):\n",
        "        resultado *= base\n",
        "\n",
        "    # Mafe si el exponente es negativo, se devuelve el inverso\n",
        "    if exponente < 0:\n",
        "        return 1 / resultado\n",
        "    return resultado\n",
        "\n",
        "# Ejemplo de uso:\n",
        "base = float(input(\"Escribe la base: \"))\n",
        "exponente = int(input(\"Escribe el exponente: \"))\n",
        "\n",
        "potencia = calcular_potencia(base, exponente)\n",
        "print(f\"{base} elevado a {exponente} es: {potencia}\")\n"
      ],
      "metadata": {
        "colab": {
          "base_uri": "https://localhost:8080/"
        },
        "id": "uVxKOPr8SIcf",
        "outputId": "5a68f7b2-97fe-49f2-cf79-6e73b2e12303"
      },
      "execution_count": 5,
      "outputs": [
        {
          "output_type": "stream",
          "name": "stdout",
          "text": [
            "Escribe la base: 4\n",
            "Escribe el exponente: 5\n",
            "4.0 elevado a 5 es: 1024.0\n"
          ]
        }
      ]
    },
    {
      "cell_type": "markdown",
      "source": [
        "Ejercicio 26"
      ],
      "metadata": {
        "id": "aqyhXP3-S6U2"
      }
    },
    {
      "cell_type": "code",
      "source": [
        "tabla_multiplicar = lambda n: [print(f\"{n} x {i} = {n*i}\") for i in range(1, 11)]\n",
        "\n",
        "\n",
        "for i in range(1, 11):\n",
        "    print(f\"\\nTabla del {i}:\")\n",
        "    tabla_multiplicar(i)\n"
      ],
      "metadata": {
        "colab": {
          "base_uri": "https://localhost:8080/"
        },
        "id": "TkQLj2lCS0Mf",
        "outputId": "39ff6ab5-c8dd-4251-8faf-d5470feec40f"
      },
      "execution_count": 7,
      "outputs": [
        {
          "output_type": "stream",
          "name": "stdout",
          "text": [
            "\n",
            "Tabla del 1:\n",
            "1 x 1 = 1\n",
            "1 x 2 = 2\n",
            "1 x 3 = 3\n",
            "1 x 4 = 4\n",
            "1 x 5 = 5\n",
            "1 x 6 = 6\n",
            "1 x 7 = 7\n",
            "1 x 8 = 8\n",
            "1 x 9 = 9\n",
            "1 x 10 = 10\n",
            "\n",
            "Tabla del 2:\n",
            "2 x 1 = 2\n",
            "2 x 2 = 4\n",
            "2 x 3 = 6\n",
            "2 x 4 = 8\n",
            "2 x 5 = 10\n",
            "2 x 6 = 12\n",
            "2 x 7 = 14\n",
            "2 x 8 = 16\n",
            "2 x 9 = 18\n",
            "2 x 10 = 20\n",
            "\n",
            "Tabla del 3:\n",
            "3 x 1 = 3\n",
            "3 x 2 = 6\n",
            "3 x 3 = 9\n",
            "3 x 4 = 12\n",
            "3 x 5 = 15\n",
            "3 x 6 = 18\n",
            "3 x 7 = 21\n",
            "3 x 8 = 24\n",
            "3 x 9 = 27\n",
            "3 x 10 = 30\n",
            "\n",
            "Tabla del 4:\n",
            "4 x 1 = 4\n",
            "4 x 2 = 8\n",
            "4 x 3 = 12\n",
            "4 x 4 = 16\n",
            "4 x 5 = 20\n",
            "4 x 6 = 24\n",
            "4 x 7 = 28\n",
            "4 x 8 = 32\n",
            "4 x 9 = 36\n",
            "4 x 10 = 40\n",
            "\n",
            "Tabla del 5:\n",
            "5 x 1 = 5\n",
            "5 x 2 = 10\n",
            "5 x 3 = 15\n",
            "5 x 4 = 20\n",
            "5 x 5 = 25\n",
            "5 x 6 = 30\n",
            "5 x 7 = 35\n",
            "5 x 8 = 40\n",
            "5 x 9 = 45\n",
            "5 x 10 = 50\n",
            "\n",
            "Tabla del 6:\n",
            "6 x 1 = 6\n",
            "6 x 2 = 12\n",
            "6 x 3 = 18\n",
            "6 x 4 = 24\n",
            "6 x 5 = 30\n",
            "6 x 6 = 36\n",
            "6 x 7 = 42\n",
            "6 x 8 = 48\n",
            "6 x 9 = 54\n",
            "6 x 10 = 60\n",
            "\n",
            "Tabla del 7:\n",
            "7 x 1 = 7\n",
            "7 x 2 = 14\n",
            "7 x 3 = 21\n",
            "7 x 4 = 28\n",
            "7 x 5 = 35\n",
            "7 x 6 = 42\n",
            "7 x 7 = 49\n",
            "7 x 8 = 56\n",
            "7 x 9 = 63\n",
            "7 x 10 = 70\n",
            "\n",
            "Tabla del 8:\n",
            "8 x 1 = 8\n",
            "8 x 2 = 16\n",
            "8 x 3 = 24\n",
            "8 x 4 = 32\n",
            "8 x 5 = 40\n",
            "8 x 6 = 48\n",
            "8 x 7 = 56\n",
            "8 x 8 = 64\n",
            "8 x 9 = 72\n",
            "8 x 10 = 80\n",
            "\n",
            "Tabla del 9:\n",
            "9 x 1 = 9\n",
            "9 x 2 = 18\n",
            "9 x 3 = 27\n",
            "9 x 4 = 36\n",
            "9 x 5 = 45\n",
            "9 x 6 = 54\n",
            "9 x 7 = 63\n",
            "9 x 8 = 72\n",
            "9 x 9 = 81\n",
            "9 x 10 = 90\n",
            "\n",
            "Tabla del 10:\n",
            "10 x 1 = 10\n",
            "10 x 2 = 20\n",
            "10 x 3 = 30\n",
            "10 x 4 = 40\n",
            "10 x 5 = 50\n",
            "10 x 6 = 60\n",
            "10 x 7 = 70\n",
            "10 x 8 = 80\n",
            "10 x 9 = 90\n",
            "10 x 10 = 100\n"
          ]
        }
      ]
    },
    {
      "cell_type": "code",
      "source": [
        "def tablas_multiplicar(n):\n",
        "    for i in range(1, 11):\n",
        "        print(f\"{n} x {i} = {n * i}\")\n",
        "\n",
        "\n",
        "for i in range(1, 11):\n",
        "    print(f\"\\nTabla del {i}:\")\n",
        "    tablas_multiplicar(i)\n"
      ],
      "metadata": {
        "colab": {
          "base_uri": "https://localhost:8080/"
        },
        "id": "t2WJltk8TfZu",
        "outputId": "c3b3151e-13e9-4f27-ce39-b407281ad994"
      },
      "execution_count": 9,
      "outputs": [
        {
          "output_type": "stream",
          "name": "stdout",
          "text": [
            "\n",
            "Tabla del 1:\n",
            "1 x 1 = 1\n",
            "1 x 2 = 2\n",
            "1 x 3 = 3\n",
            "1 x 4 = 4\n",
            "1 x 5 = 5\n",
            "1 x 6 = 6\n",
            "1 x 7 = 7\n",
            "1 x 8 = 8\n",
            "1 x 9 = 9\n",
            "1 x 10 = 10\n",
            "\n",
            "Tabla del 2:\n",
            "2 x 1 = 2\n",
            "2 x 2 = 4\n",
            "2 x 3 = 6\n",
            "2 x 4 = 8\n",
            "2 x 5 = 10\n",
            "2 x 6 = 12\n",
            "2 x 7 = 14\n",
            "2 x 8 = 16\n",
            "2 x 9 = 18\n",
            "2 x 10 = 20\n",
            "\n",
            "Tabla del 3:\n",
            "3 x 1 = 3\n",
            "3 x 2 = 6\n",
            "3 x 3 = 9\n",
            "3 x 4 = 12\n",
            "3 x 5 = 15\n",
            "3 x 6 = 18\n",
            "3 x 7 = 21\n",
            "3 x 8 = 24\n",
            "3 x 9 = 27\n",
            "3 x 10 = 30\n",
            "\n",
            "Tabla del 4:\n",
            "4 x 1 = 4\n",
            "4 x 2 = 8\n",
            "4 x 3 = 12\n",
            "4 x 4 = 16\n",
            "4 x 5 = 20\n",
            "4 x 6 = 24\n",
            "4 x 7 = 28\n",
            "4 x 8 = 32\n",
            "4 x 9 = 36\n",
            "4 x 10 = 40\n",
            "\n",
            "Tabla del 5:\n",
            "5 x 1 = 5\n",
            "5 x 2 = 10\n",
            "5 x 3 = 15\n",
            "5 x 4 = 20\n",
            "5 x 5 = 25\n",
            "5 x 6 = 30\n",
            "5 x 7 = 35\n",
            "5 x 8 = 40\n",
            "5 x 9 = 45\n",
            "5 x 10 = 50\n",
            "\n",
            "Tabla del 6:\n",
            "6 x 1 = 6\n",
            "6 x 2 = 12\n",
            "6 x 3 = 18\n",
            "6 x 4 = 24\n",
            "6 x 5 = 30\n",
            "6 x 6 = 36\n",
            "6 x 7 = 42\n",
            "6 x 8 = 48\n",
            "6 x 9 = 54\n",
            "6 x 10 = 60\n",
            "\n",
            "Tabla del 7:\n",
            "7 x 1 = 7\n",
            "7 x 2 = 14\n",
            "7 x 3 = 21\n",
            "7 x 4 = 28\n",
            "7 x 5 = 35\n",
            "7 x 6 = 42\n",
            "7 x 7 = 49\n",
            "7 x 8 = 56\n",
            "7 x 9 = 63\n",
            "7 x 10 = 70\n",
            "\n",
            "Tabla del 8:\n",
            "8 x 1 = 8\n",
            "8 x 2 = 16\n",
            "8 x 3 = 24\n",
            "8 x 4 = 32\n",
            "8 x 5 = 40\n",
            "8 x 6 = 48\n",
            "8 x 7 = 56\n",
            "8 x 8 = 64\n",
            "8 x 9 = 72\n",
            "8 x 10 = 80\n",
            "\n",
            "Tabla del 9:\n",
            "9 x 1 = 9\n",
            "9 x 2 = 18\n",
            "9 x 3 = 27\n",
            "9 x 4 = 36\n",
            "9 x 5 = 45\n",
            "9 x 6 = 54\n",
            "9 x 7 = 63\n",
            "9 x 8 = 72\n",
            "9 x 9 = 81\n",
            "9 x 10 = 90\n",
            "\n",
            "Tabla del 10:\n",
            "10 x 1 = 10\n",
            "10 x 2 = 20\n",
            "10 x 3 = 30\n",
            "10 x 4 = 40\n",
            "10 x 5 = 50\n",
            "10 x 6 = 60\n",
            "10 x 7 = 70\n",
            "10 x 8 = 80\n",
            "10 x 9 = 90\n",
            "10 x 10 = 100\n"
          ]
        }
      ]
    },
    {
      "cell_type": "markdown",
      "source": [
        "Ejercicio 27"
      ],
      "metadata": {
        "id": "FeUEqnMoT7-m"
      }
    },
    {
      "cell_type": "code",
      "source": [
        "divisores = lambda num: [i for i in range(1, num) if num % i == 0]\n",
        "\n",
        "perfecto = lambda num: sum(divisores(num)) == num\n",
        "\n",
        "def encontrar_numeros_perfectos(n):\n",
        "    return [num for num in range(2, n+1) if perfecto(num)]\n",
        "\n",
        "n = int(input(\"Introduce el valor de n: \"))\n",
        "\n",
        "numeros_perfectos = encontrar_numeros_perfectos(n)\n",
        "print(f\"Los números perfectos hasta {n} son: {numeros_perfectos}\")\n"
      ],
      "metadata": {
        "colab": {
          "base_uri": "https://localhost:8080/"
        },
        "id": "r4lFUWVlT_oF",
        "outputId": "c3c28e85-61d9-4964-dbd5-c5bc038fd4c6"
      },
      "execution_count": 16,
      "outputs": [
        {
          "output_type": "stream",
          "name": "stdout",
          "text": [
            "Introduce el valor de n: 376\n",
            "Los números perfectos hasta 376 son: [6, 28]\n"
          ]
        }
      ]
    },
    {
      "cell_type": "code",
      "source": [
        "def divisores(num):\n",
        "    divi = []\n",
        "    for i in range(1, num):\n",
        "        if num % i == 0:\n",
        "            divi.append(i)\n",
        "    return divi\n",
        "\n",
        "def perfecto(num):\n",
        "    return sum(divisores(num)) == num\n",
        "\n",
        "def encontrar_numeros_perfectos(n):\n",
        "    perfectos = []\n",
        "    for num in range(2, n+1):\n",
        "        if perfecto(num):\n",
        "            perfectos.append(num)\n",
        "    return perfectos\n",
        "\n",
        "n = int(input(\"Introduce el valor de n: \"))\n",
        "\n",
        "numeros_perfectos = encontrar_numeros_perfectos(n)\n",
        "print(f\"Los números perfectos hasta {n} son: {numeros_perfectos}\")\n"
      ],
      "metadata": {
        "colab": {
          "base_uri": "https://localhost:8080/"
        },
        "id": "lFXFErCmU2aV",
        "outputId": "9efc64aa-6d2d-426d-cd02-404e060c355c"
      },
      "execution_count": 17,
      "outputs": [
        {
          "output_type": "stream",
          "name": "stdout",
          "text": [
            "Introduce el valor de n: 567\n",
            "Los números perfectos hasta 567 son: [6, 28, 496]\n"
          ]
        }
      ]
    },
    {
      "cell_type": "markdown",
      "source": [
        "Ejercicio 28"
      ],
      "metadata": {
        "id": "0xG7DV-oVeRE"
      }
    },
    {
      "cell_type": "code",
      "source": [
        "generar_parte_superior = lambda n: [print(' ' * (n - i) + '*' * (2 * i - 1)) for i in range(1, n + 1)]\n",
        "\n",
        "generar_parte_inferior = lambda n: [print(' ' * (i) + '*' * (2 * (n - i) - 1)) for i in range(1, n)]\n",
        "\n",
        "def generar_diamante(n):\n",
        "    generar_parte_superior(n)\n",
        "    generar_parte_inferior(n)\n",
        "\n",
        "n = int(input(\"Introduce el número de filas para el diamante: \"))\n",
        "\n",
        "generar_diamante(n)\n"
      ],
      "metadata": {
        "colab": {
          "base_uri": "https://localhost:8080/"
        },
        "id": "228rOaqqVgOk",
        "outputId": "cf923109-f55a-49c2-ad06-1879528a56ea"
      },
      "execution_count": 18,
      "outputs": [
        {
          "output_type": "stream",
          "name": "stdout",
          "text": [
            "Introduce el número de filas para el diamante: 3\n",
            "  *\n",
            " ***\n",
            "*****\n",
            " ***\n",
            "  *\n"
          ]
        }
      ]
    },
    {
      "cell_type": "code",
      "source": [
        "def generar_parte_superior(n):\n",
        "    for i in range(1, n + 1):\n",
        "        print(' ' * (n - i) + '*' * (2 * i - 1))\n",
        "\n",
        "def generar_parte_inferior(n):\n",
        "    for i in range(1, n):\n",
        "        print(' ' * i + '*' * (2 * (n - i) - 1))\n",
        "\n",
        "\n",
        "def generar_diamante(n):\n",
        "    generar_parte_superior(n)\n",
        "    generar_parte_inferior(n)\n",
        "\n",
        "n = int(input(\"Introduce el número de filas para el diamante: \"))\n",
        "\n",
        "generar_diamante(n)\n"
      ],
      "metadata": {
        "colab": {
          "base_uri": "https://localhost:8080/"
        },
        "id": "AXBuig6SV4ek",
        "outputId": "3d270016-5380-495f-b8bd-7d75903d8db4"
      },
      "execution_count": 19,
      "outputs": [
        {
          "output_type": "stream",
          "name": "stdout",
          "text": [
            "Introduce el número de filas para el diamante: 7\n",
            "      *\n",
            "     ***\n",
            "    *****\n",
            "   *******\n",
            "  *********\n",
            " ***********\n",
            "*************\n",
            " ***********\n",
            "  *********\n",
            "   *******\n",
            "    *****\n",
            "     ***\n",
            "      *\n"
          ]
        }
      ]
    },
    {
      "cell_type": "markdown",
      "source": [
        "Ejercicio 29"
      ],
      "metadata": {
        "id": "hQtSxB-aWJ2T"
      }
    },
    {
      "cell_type": "code",
      "source": [
        "es_armstrong = lambda x: x == sum(int(d)**len(str(x)) for d in str(x))\n",
        "\n",
        "encontrar_armstrong = lambda n: [x for x in range(n) if es_armstrong(x)]\n",
        "\n",
        "n = int(input(\"Introduce el valor de n: \"))\n",
        "\n",
        "print(f\"Números Armstrong hasta {n}: {encontrar_armstrong(n)}\")\n"
      ],
      "metadata": {
        "colab": {
          "base_uri": "https://localhost:8080/"
        },
        "id": "Ky2HH9lDWMTz",
        "outputId": "d102d911-8844-4c6e-fdb7-40616a06dae0"
      },
      "execution_count": 20,
      "outputs": [
        {
          "output_type": "stream",
          "name": "stdout",
          "text": [
            "Introduce el valor de n: 5\n",
            "Números Armstrong hasta 5: [0, 1, 2, 3, 4]\n"
          ]
        }
      ]
    },
    {
      "cell_type": "code",
      "source": [
        "def es_armstrong(x):\n",
        "    num_str = str(x)\n",
        "    num_digitos = len(num_str)\n",
        "    suma = sum(int(digit) ** num_digitos for digit in num_str)\n",
        "    return x == suma\n",
        "\n",
        "def encontrar_armstrong(n):\n",
        "    armstrong_numeros = []\n",
        "    for x in range(n):\n",
        "        if es_armstrong(x):\n",
        "            armstrong_numeros.append(x)\n",
        "    return armstrong_numeros\n",
        "\n",
        "n = int(input(\"Escribe el valor de n: \"))\n",
        "\n",
        "print(f\"Números Armstrong hasta {n}: {encontrar_armstrong(n)}\")\n"
      ],
      "metadata": {
        "colab": {
          "base_uri": "https://localhost:8080/"
        },
        "id": "mKdM6aH6Whu7",
        "outputId": "745a81ef-b280-438a-9b5c-806098672280"
      },
      "execution_count": 22,
      "outputs": [
        {
          "output_type": "stream",
          "name": "stdout",
          "text": [
            "Escribe el valor de n: 23\n",
            "Números Armstrong hasta 23: [0, 1, 2, 3, 4, 5, 6, 7, 8, 9]\n"
          ]
        }
      ]
    },
    {
      "cell_type": "markdown",
      "source": [
        "Ejercicio 30"
      ],
      "metadata": {
        "id": "uZWtGeaoW4dT"
      }
    },
    {
      "cell_type": "code",
      "source": [
        "import time\n",
        "\n",
        "obtener_hora = lambda h, m, s: f\"{h:02}:{m:02}:{s:02}\"\n",
        "\n",
        "incrementar_segundos = lambda h, m, s: (h, m, s + 1) if s < 59 else (h, m + 1, 0)\n",
        "\n",
        "def reloj_digital(duracion):\n",
        "    h, m, s = 0, 0, 0\n",
        "    tiempo_inicial = time.time()\n",
        "\n",
        "    while time.time() - tiempo_inicial < duracion:\n",
        "\n",
        "        print(obtener_hora(h, m, s), end='\\r')\n",
        "        time.sleep(1)\n",
        "\n",
        "\n",
        "        h, m, s = incrementar_segundos(h, m, s)\n",
        "\n",
        "duracion = int(input(\"Escribe la duración en segundos para simular el reloj digital: \"))\n",
        "\n",
        "reloj_digital(duracion)\n"
      ],
      "metadata": {
        "colab": {
          "base_uri": "https://localhost:8080/"
        },
        "id": "5NyLITCqW6jk",
        "outputId": "cb134410-1e46-4c1c-ae8d-a4f3bc48bf23"
      },
      "execution_count": 24,
      "outputs": [
        {
          "output_type": "stream",
          "name": "stdout",
          "text": [
            "Escribe la duración en segundos para simular el reloj digital: 4\n"
          ]
        }
      ]
    },
    {
      "cell_type": "code",
      "source": [
        "import time\n",
        "\n",
        "def obtener_hora(h, m, s):\n",
        "    return f\"{h:02}:{m:02}:{s:02}\"\n",
        "\n",
        "def incrementar_segundos(h, m, s):\n",
        "    if s < 59:\n",
        "        s += 1\n",
        "    else:\n",
        "        s = 0\n",
        "        if m < 59:\n",
        "            m += 1\n",
        "        else:\n",
        "            m = 0\n",
        "            h += 1\n",
        "    return h, m, s\n",
        "\n",
        "def reloj_digital(duracion):\n",
        "    h, m, s = 0, 0, 0\n",
        "    tiempo_inicial = time.time()\n",
        "\n",
        "    while time.time() - tiempo_inicial < duracion:\n",
        "\n",
        "        print(obtener_hora(h, m, s), end='\\r')\n",
        "        time.sleep(1)\n",
        "        h, m, s = incrementar_segundos(h, m, s)\n",
        "\n",
        "duracion = int(input(\"Escribe la duración en segundos para simular el reloj digital: \"))\n",
        "\n",
        "reloj_digital(duracion)\n"
      ],
      "metadata": {
        "colab": {
          "base_uri": "https://localhost:8080/"
        },
        "id": "g8l9Lth6XoVq",
        "outputId": "3bc39fbb-4cb6-4877-e955-0816b5c0664b"
      },
      "execution_count": 25,
      "outputs": [
        {
          "output_type": "stream",
          "name": "stdout",
          "text": [
            "Escribe la duración en segundos para simular el reloj digital: 3\n"
          ]
        }
      ]
    }
  ]
}