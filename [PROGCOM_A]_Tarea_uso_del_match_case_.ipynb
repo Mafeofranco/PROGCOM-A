{
  "nbformat": 4,
  "nbformat_minor": 0,
  "metadata": {
    "colab": {
      "provenance": []
    },
    "kernelspec": {
      "name": "python3",
      "display_name": "Python 3"
    },
    "language_info": {
      "name": "python"
    }
  },
  "cells": [
    {
      "cell_type": "code",
      "execution_count": 1,
      "metadata": {
        "id": "wgOIrMNGuuP9",
        "colab": {
          "base_uri": "https://localhost:8080/"
        },
        "outputId": "09fda8ab-c207-499e-e7fb-4fcb4d54d12a"
      },
      "outputs": [
        {
          "output_type": "stream",
          "name": "stdout",
          "text": [
            "Veremos si un numero es par o impar\n",
            "Digite el numero 5\n",
            "Su numero es impar \n"
          ]
        }
      ],
      "source": [
        "## EJERCICIO #6 / IF\n",
        "def numeroparoimpar(numero):\n",
        "  print(\"Veremos si un numero es par o impar\")\n",
        "  ## Solicitamos el numero al usuario\n",
        "  numero= int(input(\"Digite el numero \"))\n",
        "\n",
        "  if numero %2 == 0:\n",
        "    print(\"Su numero es par \")\n",
        "  else:\n",
        "    print(\"Su numero es impar \")\n",
        "\n",
        "numeroparoimpar(0)"
      ]
    },
    {
      "cell_type": "code",
      "source": [
        "##EJERCICIO #7 / CASE\n",
        "def anobisiesto(año):\n",
        "  print(\"Veremos si un año es bisiesto o no\")\n",
        "  ## Solicitamos el numero al usuario\n",
        "\n",
        "  año = int(input(\"Digite su año \"))\n",
        "\n",
        "  match año:\n",
        "    case año if año %4 == 0 and año %100 != 0:\n",
        "      print(\"Su año es bisiesto\")\n",
        "    case año if año %400 == 0:\n",
        "      print(\"Su año es bisiesto\")\n",
        "    case _:\n",
        "      print(\"Su año no es bisiesto\")\n",
        "\n",
        "anobisiesto(0)\n",
        "\n",
        "\n"
      ],
      "metadata": {
        "colab": {
          "base_uri": "https://localhost:8080/"
        },
        "id": "1wysy91Xv0K0",
        "outputId": "7965d83f-43f2-41a0-f6c5-f7ba696604fb"
      },
      "execution_count": 17,
      "outputs": [
        {
          "output_type": "stream",
          "name": "stdout",
          "text": [
            "Veremos si un año es bisiesto o no\n",
            "Digite su año 2003\n",
            "Su año no es bisiesto\n"
          ]
        }
      ]
    },
    {
      "cell_type": "code",
      "source": [
        "## EJERCICIO 8 / IF\n",
        "\n",
        "def prioridadterceraedad(nombre,edad):\n",
        "  print(\"Escribe un programa que solicite el nombre del usuario y determine si una persona pertenece a la tercera edad (70 años o más) y si se cumple la condición, imprima que se le da prioridad en la fila.\")\n",
        "\n",
        "  ## Solicitamos datos al usuario\n",
        "  nombre = input(\"Digite su nombre \")\n",
        "  edad = int(input(\"Digite su edad \"))\n",
        "  ## Validamos con un if la edad del usuario y hacemos prints\n",
        "  if edad >= 70:\n",
        "    print(\"Usuario\",nombre,\"Tienes prioridad en la fila\")\n",
        "  else:\n",
        "    print(\"No tienes prioridad\")\n",
        "\n",
        "prioridadterceraedad(0,0)"
      ],
      "metadata": {
        "colab": {
          "base_uri": "https://localhost:8080/"
        },
        "id": "9oeDt8kgxvsX",
        "outputId": "8be16ffd-8d0f-4983-d937-2be9a14c9291"
      },
      "execution_count": 21,
      "outputs": [
        {
          "output_type": "stream",
          "name": "stdout",
          "text": [
            "Escribe un programa que solicite el nombre del usuario y determine si una persona pertenece a la tercera edad (70 años o más) y si se cumple la condición, imprima que se le da prioridad en la fila.\n",
            "Digite su nombre mafe\n",
            "Digite su edad 80\n",
            "Usuario mafe Tienes prioridad en la fila\n"
          ]
        }
      ]
    },
    {
      "cell_type": "code",
      "source": [
        "## EJERCICIO 9 / IF\n",
        "def numeromayor(num1,num2,num3):\n",
        "  print(\"Desarrolla un programa que compare tres números y muestre el mayor.\")\n",
        "\n",
        "  ## Solicitamos numeros al usuario\n",
        "  num1 = int(input(\"Digite un numero: \"))\n",
        "  num2 = int(input(\"Digite un numero: \"))\n",
        "  num3 = int(input(\"Digite un numero: \"))\n",
        "\n",
        "  ## Formulas de validacion\n",
        "\n",
        "  if num1 > num2 and num1 > num3:\n",
        "    print(\"El numero 1 es el mayor\")\n",
        "  elif num2 > num1 and num2 > num3:\n",
        "    print(\"El numero 2 es el mayor\")\n",
        "  elif num3 > num2 and num3 > num1:\n",
        "    print(f\"El numero {num3} es el mayor\")\n",
        "numeromayor(0,0,0)"
      ],
      "metadata": {
        "id": "4oyD2ipNy0ET",
        "colab": {
          "base_uri": "https://localhost:8080/"
        },
        "outputId": "4ad63177-a915-49c6-b28a-7fc45924a554"
      },
      "execution_count": 24,
      "outputs": [
        {
          "output_type": "stream",
          "name": "stdout",
          "text": [
            "Desarrolla un programa que compare tres números y muestre el mayor.\n",
            "Digite un numero: 4\n",
            "Digite un numero: 5\n",
            "Digite un numero: 6\n",
            "El numero 6 es el mayor\n"
          ]
        }
      ]
    },
    {
      "cell_type": "code",
      "source": [
        "## EJERCICIO #10 / IF\n",
        "def tipodetriangulo(num1,num2,num3):\n",
        "  print(\"Crea un programa que determine si un triángulo es equilátero, isósceles o escaleno según sus lados.\")\n",
        "  ## Solciitamos los lados del triangulo\n",
        "  num1 = int(input(\"Digite un numero: \"))\n",
        "  num2 = int(input(\"Digite un numero: \"))\n",
        "  num3 = int(input(\"Digite un numero: \"))\n",
        "\n",
        "  ## Formulas de valiadcion\n",
        "\n",
        "  if num1 == num2 and num1 == num3:\n",
        "    print(\"Su triangulo es isoceles\")\n",
        "  elif num1 == num2 or num1 == num3 or num2 == num3:\n",
        "    print(\"Su triangulo es equilatero\")\n",
        "  else:\n",
        "    print(\"Su triangulo es escaleno\")\n",
        "\n",
        "tipodetriangulo(0,0,0)"
      ],
      "metadata": {
        "id": "mJMinvq3z-RB",
        "colab": {
          "base_uri": "https://localhost:8080/"
        },
        "outputId": "470eaefd-843c-48b5-f078-1b8a3dee6835"
      },
      "execution_count": 25,
      "outputs": [
        {
          "output_type": "stream",
          "name": "stdout",
          "text": [
            "Crea un programa que determine si un triángulo es equilátero, isósceles o escaleno según sus lados.\n",
            "Digite un numero: 4\n",
            "Digite un numero: 9\n",
            "Digite un numero: 3\n",
            "Su triangulo es escaleno\n"
          ]
        }
      ]
    }
  ]
}