{
  "nbformat": 4,
  "nbformat_minor": 0,
  "metadata": {
    "colab": {
      "provenance": []
    },
    "kernelspec": {
      "name": "python3",
      "display_name": "Python 3"
    },
    "language_info": {
      "name": "python"
    }
  },
  "cells": [
    {
      "cell_type": "markdown",
      "source": [
        "11. CALCULADORA IMC"
      ],
      "metadata": {
        "id": "U9ZK8_gZPDVr"
      }
    },
    {
      "cell_type": "code",
      "execution_count": 2,
      "metadata": {
        "colab": {
          "base_uri": "https://localhost:8080/"
        },
        "id": "So5sOcScNW9m",
        "outputId": "f89cdda4-8793-4cce-8b7e-1115fbca95b2"
      },
      "outputs": [
        {
          "name": "stdout",
          "output_type": "stream",
          "text": [
            "Introduce tu nombre: Mafe\n",
            "Introduce tu peso en kg: 62\n",
            "Introduce tu altura en metros: 1.64\n",
            "Mafe, tu categoría es Normal. Mantén un estilo de vida saludable.\n",
            "¿Desea realizar otro calculo? digite (si/no)no\n"
          ]
        }
      ],
      "source": [
        "def categoriapeso(nombre,peso,altura,imc,categoria,descripcion):\n",
        "  continuar = True\n",
        "  while continuar == True:\n",
        "\n",
        "      nombre = input(\"Introduce tu nombre: \")\n",
        "      peso = float(input(\"Introduce tu peso en kg: \"))\n",
        "      altura = float(input(\"Introduce tu altura en metros: \"))\n",
        "\n",
        "      imc = peso / (altura ** 2)\n",
        "\n",
        "      if imc < 18.5:\n",
        "          categoria = \"Bajo peso\"\n",
        "          descripcion = \"Debes aumentar de peso de manera saludable.\"\n",
        "      elif 18.5 <= imc < 25:\n",
        "          categoria = \"Normal\"\n",
        "          descripcion = \"Mantén un estilo de vida saludable.\"\n",
        "      elif 25 <= imc < 30:\n",
        "          categoria = \"Sobrepeso\"\n",
        "          descripcion = \"Debes reducir tu peso de manera saludable.\"\n",
        "      else:\n",
        "          categoria = \"Obesidad\"\n",
        "          descripcion = \"Debes consultar a un especialista para reducir tu peso.\"\n",
        "\n",
        "      print(f\"{nombre}, tu categoría es {categoria}. {descripcion}\")\n",
        "      respuesta = input(\"¿Desea realizar otro calculo? digite (si/no)\")\n",
        "\n",
        "      if respuesta == \"si\":\n",
        "        continuar = True\n",
        "      if respuesta == \"no\":\n",
        "        continuar = False\n",
        "categoriapeso(0,0,0,0,0,0)\n",
        ""
      ]
    },
    {
      "cell_type": "markdown",
      "source": [
        "12. calculadora simple (+, -, *, /) con dos números.\n"
      ],
      "metadata": {
        "id": "WQoQf1b7PLQq"
      }
    },
    {
      "cell_type": "code",
      "source": [
        "def operaciones(num1,num2,operacion,resultado):\n",
        "  continuar = True\n",
        "  while continuar == True:\n",
        "\n",
        "      num1 = float(input(\"Introduce el primer número: \"))\n",
        "      num2 = float(input(\"Introduce el segundo número: \"))\n",
        "      operacion = input(\"Introduce la operación (+, -, *, /): \")\n",
        "\n",
        "      if operacion == '+':\n",
        "          resultado = num1 + num2\n",
        "      elif operacion == '-':\n",
        "          resultado = num1 - num2\n",
        "      elif operacion == '*':\n",
        "          resultado = num1 * num2\n",
        "      elif operacion == '/':\n",
        "          resultado = num1 / num2\n",
        "      else:\n",
        "          resultado = \"Operación no válida, selecciona alguno de estos (+, -, *, /)\"\n",
        "\n",
        "      print(f\"El resultado es: {resultado}\")\n",
        "\n",
        "      respuesta = input(\"¿Desea realizar otro calculo? digite (si/no)\")\n",
        "      if respuesta == \"si\":\n",
        "        continuar = True\n",
        "      if respuesta == \"no\":\n",
        "        continuar = False\n",
        "operaciones(0,0,0,0)"
      ],
      "metadata": {
        "colab": {
          "base_uri": "https://localhost:8080/"
        },
        "id": "Wt_VOMPjPQ4U",
        "outputId": "99d19308-ac55-4aed-df30-cedb89670892"
      },
      "execution_count": 5,
      "outputs": [
        {
          "name": "stdout",
          "output_type": "stream",
          "text": [
            "Introduce el primer número: 5\n",
            "Introduce el segundo número: 6\n",
            "Introduce la operación (+, -, *, /): +\n",
            "El resultado es: 11.0\n",
            "¿Desea realizar otro calculo? digite (si/no)no\n"
          ]
        }
      ]
    },
    {
      "cell_type": "markdown",
      "source": [
        "13. determine la calificación en letras (A, B, C, D, F) según una nota numérica (0-100).\n"
      ],
      "metadata": {
        "id": "FxTGQXFJPac-"
      }
    },
    {
      "cell_type": "code",
      "source": [
        "def calificaciones(nota,letra,respuesta):\n",
        "\n",
        "      nota = int(input(\"Introduce tu nota (0-100): \"))\n",
        "\n",
        "      if nota == 100:\n",
        "          letra = 'A'\n",
        "      elif nota >= 90:\n",
        "          letra = 'B'\n",
        "      elif nota >= 80:\n",
        "          letra = 'C'\n",
        "      elif nota >= 70:\n",
        "          letra = 'D'\n",
        "      else:\n",
        "          letra = 'F'\n",
        "\n",
        "      print(f\"Tu calificación es: {letra}\")\n",
        "      respuesta = input(\"¿Desea realizar otro calculo? digite (si/no)\")\n",
        "calificaciones(0,0,0)\n"
      ],
      "metadata": {
        "colab": {
          "base_uri": "https://localhost:8080/"
        },
        "id": "w2b06YJ6Pd_C",
        "outputId": "9c106875-45eb-48e0-b4fd-b1a76a954270"
      },
      "execution_count": 6,
      "outputs": [
        {
          "name": "stdout",
          "output_type": "stream",
          "text": [
            "Introduce tu nota (0-100): 80\n",
            "Tu calificación es: C\n",
            "¿Desea realizar otro calculo? digite (si/no)no\n"
          ]
        }
      ]
    },
    {
      "cell_type": "markdown",
      "source": [
        "14. determine el día de la semana según un número (1-7)."
      ],
      "metadata": {
        "id": "nMHw6AuFPtna"
      }
    },
    {
      "cell_type": "code",
      "source": [
        "def diasdelasemana(numero,dias,respuesta):\n",
        "\n",
        "      numero = int(input(\"Introduce un número del 1 al 7: \"))\n",
        "\n",
        "      dias = [\"Lunes\", \"Martes\", \"Miércoles\", \"Jueves\", \"Viernes\", \"Sábado\", \"Domingo\"]\n",
        "\n",
        "      if 1 <= numero <= 7:\n",
        "          print(f\"El día correspondiente es: {dias[numero-1]}\")\n",
        "      else:\n",
        "          print(\"Número no válido.\")\n",
        "\n",
        "      respuesta = input(\"¿Desea realizar otro calculo? digite (si/no)\")\n",
        "\n",
        "diasdelasemana(0,0,0)\n"
      ],
      "metadata": {
        "colab": {
          "base_uri": "https://localhost:8080/"
        },
        "id": "YnB9RvmyP4rd",
        "outputId": "21a2a494-b067-4237-a23a-8746122dccf7"
      },
      "execution_count": 9,
      "outputs": [
        {
          "name": "stdout",
          "output_type": "stream",
          "text": [
            "Introduce un número del 1 al 7: 5\n",
            "El día correspondiente es: Viernes\n",
            "¿Desea realizar otro calculo? digite (si/no)no\n"
          ]
        }
      ]
    },
    {
      "cell_type": "markdown",
      "source": [
        "15. Desarrolla un programa que valide si tres números pueden formar un triángulo y de qué tipo es."
      ],
      "metadata": {
        "id": "4X7BPTYpQRJh"
      }
    },
    {
      "cell_type": "code",
      "source": [
        "def tipodetriangulo(a,b,c,respuesta):\n",
        "\n",
        "    a = float(input(\"Introduce el primer lado: \"))\n",
        "    b = float(input(\"Introduce el segundo lado: \"))\n",
        "    c = float(input(\"Introduce el tercer lado: \"))\n",
        "\n",
        "    if a + b > c and a + c > b and b + c > a:\n",
        "        if a == b == c:\n",
        "            tipo = \"Equilátero\"\n",
        "        elif a == b or a == c or b == c:\n",
        "            tipo = \"Isósceles\"\n",
        "        else:\n",
        "            tipo = \"Escaleno\"\n",
        "        print(f\"Los lados forman un triángulo {tipo}.\")\n",
        "    else:\n",
        "        print(\"Los lados no forman un triángulo.\")\n",
        "\n",
        "    respuesta = input(\"¿Desea realizar otro calculo? digite (si/no)\")\n",
        "tipodetriangulo(0,0,0,0)"
      ],
      "metadata": {
        "colab": {
          "base_uri": "https://localhost:8080/"
        },
        "id": "-1r7zlyqQayc",
        "outputId": "bc5b2295-88be-464f-aaae-04db893c10ae"
      },
      "execution_count": 11,
      "outputs": [
        {
          "name": "stdout",
          "output_type": "stream",
          "text": [
            "Introduce el primer lado: 4\n",
            "Introduce el segundo lado: 5\n",
            "Introduce el tercer lado: 6\n",
            "Los lados forman un triángulo Escaleno.\n",
            "¿Desea realizar otro calculo? digite (si/no)no\n"
          ]
        }
      ]
    },
    {
      "cell_type": "markdown",
      "source": [
        "16. programa que muestre la tabla de multiplicar de un número hasta el 10."
      ],
      "metadata": {
        "id": "3uIP-vmKQl6Y"
      }
    },
    {
      "cell_type": "code",
      "source": [
        "def tablasdemultiplicar(numero):\n",
        "\n",
        "      numero = int(input(\"Introduce un número: \"))\n",
        "\n",
        "      for i in range(1, 11):\n",
        "          print(f\"{numero} x {i} = {numero * i}\")\n",
        "\n",
        "tablasdemultiplicar(0)"
      ],
      "metadata": {
        "colab": {
          "base_uri": "https://localhost:8080/"
        },
        "id": "QwXkg-x4Q0Mr",
        "outputId": "92b9b103-7b90-45db-a393-12021e772c19"
      },
      "execution_count": 12,
      "outputs": [
        {
          "output_type": "stream",
          "name": "stdout",
          "text": [
            "Introduce un número: 5\n",
            "5 x 1 = 5\n",
            "5 x 2 = 10\n",
            "5 x 3 = 15\n",
            "5 x 4 = 20\n",
            "5 x 5 = 25\n",
            "5 x 6 = 30\n",
            "5 x 7 = 35\n",
            "5 x 8 = 40\n",
            "5 x 9 = 45\n",
            "5 x 10 = 50\n"
          ]
        }
      ]
    },
    {
      "cell_type": "markdown",
      "source": [
        "17. Escribe un programa que calcule la suma de números naturales hasta n."
      ],
      "metadata": {
        "id": "-pialYAXQ-CZ"
      }
    },
    {
      "cell_type": "code",
      "source": [
        "def sumanumerosnaturales(n,suma):\n",
        "      n = int(input(\"Introduce un número: \"))\n",
        "      suma = 0\n",
        "\n",
        "      for i in range(1, n+1):\n",
        "          suma += i\n",
        "\n",
        "      print(f\"La suma de los primeros {n} números naturales es: {suma}\")\n",
        "sumanumerosnaturales(0,0)"
      ],
      "metadata": {
        "colab": {
          "base_uri": "https://localhost:8080/"
        },
        "id": "N5rwvJQjRDDX",
        "outputId": "a16850c5-0e0c-4cbe-e118-05c35b575286"
      },
      "execution_count": 13,
      "outputs": [
        {
          "output_type": "stream",
          "name": "stdout",
          "text": [
            "Introduce un número: 4\n",
            "La suma de los primeros 4 números naturales es: 10\n"
          ]
        }
      ]
    },
    {
      "cell_type": "markdown",
      "source": [
        "18. Desarrolla un programa que calcule el factorial de un número. Recuerda que el factorial de 0 es 1 y no existen factoriales negativos."
      ],
      "metadata": {
        "id": "npRuFoLRRQQ7"
      }
    },
    {
      "cell_type": "code",
      "source": [
        "def factorialnumero(n,fact):\n",
        "      n = int(input(\"Introduce un número: \"))\n",
        "      fact = 1\n",
        "\n",
        "      for i in range(1, n+1):\n",
        "          fact *= i\n",
        "\n",
        "      print(f\"El factorial de {n} es: {fact}\")\n",
        "factorialnumero(0,0)"
      ],
      "metadata": {
        "colab": {
          "base_uri": "https://localhost:8080/"
        },
        "id": "X2gmBUBMRTw4",
        "outputId": "1d5d6ea8-071a-427d-e41d-de3af7d9d4b8"
      },
      "execution_count": 14,
      "outputs": [
        {
          "output_type": "stream",
          "name": "stdout",
          "text": [
            "Introduce un número: 6\n",
            "El factorial de 6 es: 720\n"
          ]
        }
      ]
    },
    {
      "cell_type": "markdown",
      "source": [
        "19. Crea un programa que muestre los primeros n números de la serie Fibonacci."
      ],
      "metadata": {
        "id": "48FplUU5RluA"
      }
    },
    {
      "cell_type": "code",
      "source": [
        "def numerosfibonacci(n,a,b):\n",
        "      n = int(input(\"Introduce el número de términos: \"))\n",
        "      a, b = 0, 1\n",
        "\n",
        "      for i in range(n):\n",
        "          print(a, end=\" \")\n",
        "          a, b = b, a + b\n",
        "numerosfibonacci(0,0,0)"
      ],
      "metadata": {
        "colab": {
          "base_uri": "https://localhost:8080/"
        },
        "id": "tjBme_btRuXc",
        "outputId": "b985363f-20ab-469a-9ed4-3fb8370e1286"
      },
      "execution_count": 15,
      "outputs": [
        {
          "output_type": "stream",
          "name": "stdout",
          "text": [
            "Introduce el número de términos: 10\n",
            "0 1 1 2 3 5 8 13 21 34 "
          ]
        }
      ]
    },
    {
      "cell_type": "markdown",
      "source": [
        "20. Escribe un programa que adivine entre un conjunto de diez colores definidos por el usuario, con un máximo de 10 intentos."
      ],
      "metadata": {
        "id": "MBfpoyS4SETU"
      }
    },
    {
      "cell_type": "code",
      "source": [
        "def juegoadivina(colores,color_correcto,intentos,adivinanza):\n",
        "  import random\n",
        "\n",
        "  colores = input(\"Introduce 10 colores separados por comas: \").split(',')\n",
        "  color_correcto = random.choice(colores)\n",
        "  intentos = 0\n",
        "\n",
        "  while intentos < 10:\n",
        "      intentos += 1\n",
        "      adivinanza = input(\"Adivina un color: \")\n",
        "\n",
        "      if adivinanza == color_correcto:\n",
        "          print(f\"¡Correcto! Adivinaste el color {color_correcto} en {intentos} intentos.\")\n",
        "          break\n",
        "      else:\n",
        "          print(f\"Incorrecto, llevas {intentos} intentos.\")\n",
        "  else:\n",
        "      print(f\"Has agotado tus 10 intentos. El color correcto era: {color_correcto}\")\n",
        "juegoadivina(0,0,0,0)"
      ],
      "metadata": {
        "colab": {
          "base_uri": "https://localhost:8080/"
        },
        "id": "5M7_xZA-SJE7",
        "outputId": "fd7c510e-e2f1-4475-d954-e852e0371970"
      },
      "execution_count": 16,
      "outputs": [
        {
          "output_type": "stream",
          "name": "stdout",
          "text": [
            "Introduce 10 colores separados por comas: rojo,azul,verde,amarillo,naranja,morado,rosa,blanco,negro,gris\n",
            "Adivina un color: rojoo\n",
            "Incorrecto, llevas 1 intentos.\n",
            "Adivina un color: azul\n",
            "Incorrecto, llevas 2 intentos.\n",
            "Adivina un color: amarillo\n",
            "Incorrecto, llevas 3 intentos.\n",
            "Adivina un color: verde\n",
            "Incorrecto, llevas 4 intentos.\n",
            "Adivina un color: morado\n",
            "¡Correcto! Adivinaste el color morado en 5 intentos.\n"
          ]
        }
      ]
    }
  ]
}