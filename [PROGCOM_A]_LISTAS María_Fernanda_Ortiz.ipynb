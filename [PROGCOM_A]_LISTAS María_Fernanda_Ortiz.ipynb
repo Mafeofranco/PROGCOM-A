{
  "nbformat": 4,
  "nbformat_minor": 0,
  "metadata": {
    "colab": {
      "provenance": []
    },
    "kernelspec": {
      "name": "python3",
      "display_name": "Python 3"
    },
    "language_info": {
      "name": "python"
    }
  },
  "cells": [
    {
      "cell_type": "code",
      "execution_count": 10,
      "metadata": {
        "colab": {
          "base_uri": "https://localhost:8080/"
        },
        "id": "YBkx4GfamYrJ",
        "outputId": "74f78c16-685e-4797-b023-acf3813abf74"
      },
      "outputs": [
        {
          "output_type": "stream",
          "name": "stdout",
          "text": [
            "Introduce el primer lado: 6\n",
            "Introduce el segundo lado: 3\n",
            "Introduce el tercer lado: 2\n",
            "Los lados no forman un triángulo.\n"
          ]
        }
      ],
      "source": [
        "    a = float(input(\"Introduce el primer lado: \"))\n",
        "    b = float(input(\"Introduce el segundo lado: \"))\n",
        "    c = float(input(\"Introduce el tercer lado: \"))\n",
        "\n",
        "    if a + b > c and a + c > b and b + c > a:\n",
        "        if a == b == c:\n",
        "            tipo = \"Equilátero\"\n",
        "        elif a == b or a == c or b == c:\n",
        "            tipo = \"Isósceles\"\n",
        "        else:\n",
        "            tipo = \"Escaleno\"\n",
        "        print(f\"Los lados forman un triángulo {tipo}.\")\n",
        "    else:\n",
        "        print(\"Los lados no forman un triángulo.\")\n"
      ]
    },
    {
      "cell_type": "code",
      "source": [
        "numero = int(input(\"Ingresa un número: \"))\n",
        "tabla = [numero * i for i in range(1, 11)]\n",
        "for i, valor in enumerate(tabla, start=1):\n",
        "    print(f\"{numero} x {i} = {valor}\")"
      ],
      "metadata": {
        "colab": {
          "base_uri": "https://localhost:8080/"
        },
        "id": "FHx9vO01nEUm",
        "outputId": "e6c06247-7dae-455b-bc48-0c7476701cb2"
      },
      "execution_count": 9,
      "outputs": [
        {
          "output_type": "stream",
          "name": "stdout",
          "text": [
            "Ingresa un número: 3\n",
            "3 x 1 = 3\n",
            "3 x 2 = 6\n",
            "3 x 3 = 9\n",
            "3 x 4 = 12\n",
            "3 x 5 = 15\n",
            "3 x 6 = 18\n",
            "3 x 7 = 21\n",
            "3 x 8 = 24\n",
            "3 x 9 = 27\n",
            "3 x 10 = 30\n"
          ]
        }
      ]
    },
    {
      "cell_type": "code",
      "source": [
        "n = int(input(\"Ingresa un número: \"))\n",
        "numeros = list(range(1, n + 1))\n",
        "suma = sum(numeros)\n",
        "print(f\"La suma de los números naturales hasta {n} es: {suma}\")"
      ],
      "metadata": {
        "colab": {
          "base_uri": "https://localhost:8080/"
        },
        "id": "5ilBGrjBoNqp",
        "outputId": "62df7516-ffb5-484f-8528-5ae4bc06b30a"
      },
      "execution_count": 8,
      "outputs": [
        {
          "output_type": "stream",
          "name": "stdout",
          "text": [
            "Ingresa un número: 45\n",
            "La suma de los números naturales hasta 45 es: 1035\n"
          ]
        }
      ]
    },
    {
      "cell_type": "code",
      "source": [
        "n = int(input(\"Ingresa un número: \"))\n",
        "if n < 0:\n",
        "    print(\"No existen factoriales negativos.\")\n",
        "elif n == 0:\n",
        "    print(\"El factorial de 0 es 1.\")\n",
        "else:\n",
        "    factorial = 1\n",
        "    numeros = list(range(1, n + 1))\n",
        "    for num in numeros:\n",
        "        factorial *= num\n",
        "    print(f\"El factorial de {n} es: {factorial}\")"
      ],
      "metadata": {
        "colab": {
          "base_uri": "https://localhost:8080/"
        },
        "id": "gwc5I0HmoPwe",
        "outputId": "de331cd1-1211-4c09-8cfc-3b4f8e7789d7"
      },
      "execution_count": 7,
      "outputs": [
        {
          "output_type": "stream",
          "name": "stdout",
          "text": [
            "Ingresa un número: 9\n",
            "El factorial de 9 es: 362880\n"
          ]
        }
      ]
    },
    {
      "cell_type": "code",
      "source": [
        "n = int(input(\"Ingresa un número: \"))\n",
        "fibonacci = [0, 1]\n",
        "for i in range(2, n):\n",
        "    fibonacci.append(fibonacci[i-1] + fibonacci[i-2])\n",
        "print(fibonacci[:n])"
      ],
      "metadata": {
        "colab": {
          "base_uri": "https://localhost:8080/"
        },
        "id": "ysmwhAK3oVOI",
        "outputId": "c6ed52e3-3840-4e11-918c-b2f01e079b50"
      },
      "execution_count": 6,
      "outputs": [
        {
          "output_type": "stream",
          "name": "stdout",
          "text": [
            "Ingresa un número: 8\n",
            "[0, 1, 1, 2, 3, 5, 8, 13]\n"
          ]
        }
      ]
    },
    {
      "cell_type": "code",
      "source": [
        "colores = [input(f\"Ingresa el color {i+1}: \") for i in range(10)]\n",
        "intentos = 0\n",
        "while intentos < 10:\n",
        "    intento = input(\"Adivina un color: \")\n",
        "    if intento in colores:\n",
        "        print(f\"¡Correcto! {intento} está en la lista.\")\n",
        "        break\n",
        "    else:\n",
        "        print(\"Incorrecto. Intenta de nuevo.\")\n",
        "        intentos += 1\n",
        "else:\n",
        "    print(\"Has agotado tus 10 intentos.\")"
      ],
      "metadata": {
        "colab": {
          "base_uri": "https://localhost:8080/"
        },
        "id": "LoqN_NamoZQS",
        "outputId": "625ea17a-556f-421b-97fd-1df83981e639"
      },
      "execution_count": null,
      "outputs": [
        {
          "output_type": "stream",
          "name": "stdout",
          "text": [
            "Ingresa el color 1: rojo\n",
            "Ingresa el color 2: azul\n",
            "Ingresa el color 3: verde\n",
            "Ingresa el color 4: gris\n",
            "Ingresa el color 5: amarillo\n",
            "Ingresa el color 6: rosado\n",
            "Ingresa el color 7: dorado\n",
            "Ingresa el color 8: morado\n",
            "Ingresa el color 9: negro\n",
            "Ingresa el color 10: blanco\n",
            "Adivina un color: rojo\n",
            "¡Correcto! rojo está en la lista.\n"
          ]
        }
      ]
    },
    {
      "cell_type": "code",
      "source": [
        "numeros = list(range(1, 101))\n",
        "pares = [num for num in numeros if num % 2 == 0]\n",
        "print(pares)"
      ],
      "metadata": {
        "colab": {
          "base_uri": "https://localhost:8080/"
        },
        "id": "dV9N6ANwopGA",
        "outputId": "a4f370f1-0e1b-44a2-c47a-3fb127efe6a8"
      },
      "execution_count": 4,
      "outputs": [
        {
          "output_type": "stream",
          "name": "stdout",
          "text": [
            "[2, 4, 6, 8, 10, 12, 14, 16, 18, 20, 22, 24, 26, 28, 30, 32, 34, 36, 38, 40, 42, 44, 46, 48, 50, 52, 54, 56, 58, 60, 62, 64, 66, 68, 70, 72, 74, 76, 78, 80, 82, 84, 86, 88, 90, 92, 94, 96, 98, 100]\n"
          ]
        }
      ]
    },
    {
      "cell_type": "code",
      "source": [
        "numero = input(\"Ingresa un número: \")\n",
        "digitos = [int(digito) for digito in numero]\n",
        "suma = sum(digitos)\n",
        "print(f\"La suma de los dígitos es: {suma}\")"
      ],
      "metadata": {
        "colab": {
          "base_uri": "https://localhost:8080/"
        },
        "id": "e5W44IgZovfD",
        "outputId": "4bf7ab10-690b-45d8-f983-c0f4a3007542"
      },
      "execution_count": 5,
      "outputs": [
        {
          "output_type": "stream",
          "name": "stdout",
          "text": [
            "Ingresa un número: 67\n",
            "La suma de los dígitos es: 13\n"
          ]
        }
      ]
    },
    {
      "cell_type": "code",
      "source": [
        "n = int(input(\"Ingresa un número: \"))\n",
        "if n <= 1:\n",
        "    es_primo = False\n",
        "else:\n",
        "    divisores = [i for i in range(2, int(n**0.5) + 1) if n % i == 0]\n",
        "    es_primo = len(divisores) == 0\n",
        "print(f\"{n} es primo.\" if es_primo else f\"{n} no es primo.\")"
      ],
      "metadata": {
        "colab": {
          "base_uri": "https://localhost:8080/"
        },
        "id": "6iW56QsRozf2",
        "outputId": "72b30ca5-7081-431c-ef58-dc566f77c52b"
      },
      "execution_count": 3,
      "outputs": [
        {
          "output_type": "stream",
          "name": "stdout",
          "text": [
            "Ingresa un número: 236\n",
            "236 no es primo.\n"
          ]
        }
      ]
    },
    {
      "cell_type": "code",
      "source": [
        "n = int(input(\"Ingresa un número: \"))\n",
        "triangulo = ['*' * i for i in range(1, n + 1)]\n",
        "for fila in triangulo:\n",
        "    print(fila)"
      ],
      "metadata": {
        "colab": {
          "base_uri": "https://localhost:8080/"
        },
        "id": "5OuhNyMto2UY",
        "outputId": "9576ca5e-d1f4-420d-e327-2e34023b1e46"
      },
      "execution_count": 2,
      "outputs": [
        {
          "output_type": "stream",
          "name": "stdout",
          "text": [
            "Ingresa un número: 16\n",
            "*\n",
            "**\n",
            "***\n",
            "****\n",
            "*****\n",
            "******\n",
            "*******\n",
            "********\n",
            "*********\n",
            "**********\n",
            "***********\n",
            "************\n",
            "*************\n",
            "**************\n",
            "***************\n",
            "****************\n"
          ]
        }
      ]
    },
    {
      "cell_type": "code",
      "source": [
        "base = int(input(\"Ingresa la base: \"))\n",
        "exponente = int(input(\"Ingresa el exponente: \"))\n",
        "resultado = 1\n",
        "factores = [base] * exponente\n",
        "for factor in factores:\n",
        "    resultado *= factor\n",
        "print(f\"{base} elevado a {exponente} es: {resultado}\")"
      ],
      "metadata": {
        "colab": {
          "base_uri": "https://localhost:8080/"
        },
        "id": "3vXq7Bt-o7oq",
        "outputId": "538e8449-0c3a-4018-d140-f07275b15d91"
      },
      "execution_count": 1,
      "outputs": [
        {
          "output_type": "stream",
          "name": "stdout",
          "text": [
            "Ingresa la base: 4\n",
            "Ingresa el exponente: 34\n",
            "4 elevado a 34 es: 295147905179352825856\n"
          ]
        }
      ]
    }
  ]
}