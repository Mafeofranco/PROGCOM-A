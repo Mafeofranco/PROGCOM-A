{
  "nbformat": 4,
  "nbformat_minor": 0,
  "metadata": {
    "colab": {
      "provenance": []
    },
    "kernelspec": {
      "name": "python3",
      "display_name": "Python 3"
    },
    "language_info": {
      "name": "python"
    }
  },
  "cells": [
    {
      "cell_type": "code",
      "execution_count": null,
      "metadata": {
        "id": "wgOIrMNGuuP9"
      },
      "outputs": [],
      "source": [
        "## EJERCICIO #6 / IF\n",
        "\n",
        "print(\"Veremos si un numero es par o impar\")\n",
        "## Solicitamos el numero al usuario\n",
        "numero= int(input(\"Digite el numero \"))\n",
        "\n",
        "if numero %2 == 0:\n",
        "  print(\"Su numero es par \")\n",
        "else:\n",
        "  print(\"Su numero es impar \")"
      ]
    },
    {
      "cell_type": "code",
      "source": [
        "## EJERCICIO #6 / MATCH\n",
        "\n",
        "print(\"Veremos si un numero es par o impar\")\n",
        "## Solicitamos el numero al usuario\n",
        "numero= int(input(\"Digite el numero \"))\n",
        "\n",
        "match numero %2 :\n",
        "  case (0):\n",
        "    print(\"Su numero es par\")\n",
        "  case _:\n",
        "    print(\"Su numero es impar\")"
      ],
      "metadata": {
        "colab": {
          "base_uri": "https://localhost:8080/"
        },
        "id": "BNabIXrpu-Iv",
        "outputId": "6ea3735f-8349-4878-9fce-0663f2420efe"
      },
      "execution_count": null,
      "outputs": [
        {
          "output_type": "stream",
          "name": "stdout",
          "text": [
            "Veremos si un numero es par o impar\n",
            "Digite el numero 21\n",
            "Su numero es impar\n"
          ]
        }
      ]
    },
    {
      "cell_type": "code",
      "source": [
        "## EJERCICIO #7 / IF\n",
        "\n",
        "print(\"Veremos si un año es bisiesto o no\")\n",
        "## Solicitamos el numero al usuario\n",
        "\n",
        "año = int(input(\"Digite su año \"))\n",
        "\n",
        "if año %4 == 0 and año %100 != 0:\n",
        "  print(\"Su año es bisiesto\")\n",
        "elif año %400 == 0:\n",
        "  print(\"Su año es bisiesto\")\n",
        "else:\n",
        "  print(\"Su año no es bisiesto\")"
      ],
      "metadata": {
        "id": "VDsTPueNvjYE"
      },
      "execution_count": null,
      "outputs": []
    },
    {
      "cell_type": "code",
      "source": [
        "##EJERCICIO #7 / CASE\n",
        "\n",
        "print(\"Veremos si un año es bisiesto o no\")\n",
        "## Solicitamos el numero al usuario\n",
        "\n",
        "año = int(input(\"Digite su año \"))\n",
        "\n",
        "match año:\n",
        "  case año if año %4 == 0 and año %100 != 0:\n",
        "    print(\"Su año es bisiesto\")\n",
        "  case año if año %400 == 0:\n",
        "    print(\"Su año es bisiesto\")\n",
        "  case _:\n",
        "    print(\"Su año no es bisiesto\")\n",
        "\n",
        "\n"
      ],
      "metadata": {
        "colab": {
          "base_uri": "https://localhost:8080/"
        },
        "id": "1wysy91Xv0K0",
        "outputId": "d3f918e5-2047-4a9d-b2ec-ea2a3ea7e3d3"
      },
      "execution_count": null,
      "outputs": [
        {
          "output_type": "stream",
          "name": "stdout",
          "text": [
            "Veremos si un año es bisiesto o no\n",
            "Digite su año 2000\n",
            "Su año es bisiesto\n"
          ]
        }
      ]
    },
    {
      "cell_type": "code",
      "source": [
        "## EJERCICIO 8 / IF\n",
        "\n",
        "print(\"Escribe un programa que solicite el nombre del usuario y determine si una persona pertenece a la tercera edad (70 años o más) y si se cumple la condición, imprima que se le da prioridad en la fila.\")\n",
        "\n",
        "## Solicitamos datos al usuario\n",
        "nombre = input(\"Digite su nombre \")\n",
        "edad = int(input(\"Digite su edad \"))\n",
        "## Validamos con un if la edad del usuario y hacemos prints\n",
        "if edad >= 70:\n",
        "  print(\"Usuario\",nombre,\"Tienes prioridad en la fila\")\n",
        "else:\n",
        "  print(\"No tienes prioridad\")"
      ],
      "metadata": {
        "colab": {
          "base_uri": "https://localhost:8080/"
        },
        "id": "9oeDt8kgxvsX",
        "outputId": "d1933e93-f62a-4062-abc6-a8374cd652a0"
      },
      "execution_count": null,
      "outputs": [
        {
          "output_type": "stream",
          "name": "stdout",
          "text": [
            "Escribe un programa que solicite el nombre del usuario y determine si una persona pertenece a la tercera edad (70 años o más) y si se cumple la condición, imprima que se le da prioridad en la fila.\n",
            "Digite su nombre DAVID\n",
            "Digite su edad 70\n",
            "Usuario DAVID Tienes prioridad en la fila\n"
          ]
        }
      ]
    },
    {
      "cell_type": "code",
      "source": [
        "## EJERCICIO 8 / CASE\n",
        "\n",
        "print(\"Escribe un programa que solicite el nombre del usuario y determine si una persona pertenece a la tercera edad (70 años o más) y si se cumple la condición, imprima que se le da prioridad en la fila.\")\n",
        "\n",
        "## Solicitamos datos al usuario\n",
        "nombre = input(\"Digite su nombre \")\n",
        "edad = int(input(\"Digite su edad \"))\n",
        "## Validamos con un if la edad del usuario y hacemos prints\n",
        "\n",
        "match edad:\n",
        "  case edad if edad >= 70:\n",
        "    print(f\"Usuario {nombre} Tienes prioridad en la fila\")\n",
        "  case _:\n",
        "    print(f\" {nombre} No tienes prioridad\")"
      ],
      "metadata": {
        "colab": {
          "base_uri": "https://localhost:8080/"
        },
        "id": "VcLcQ5cxyDBQ",
        "outputId": "f72355ed-5b5b-4b85-ee6a-df445a4f21a0"
      },
      "execution_count": null,
      "outputs": [
        {
          "output_type": "stream",
          "name": "stdout",
          "text": [
            "Escribe un programa que solicite el nombre del usuario y determine si una persona pertenece a la tercera edad (70 años o más) y si se cumple la condición, imprima que se le da prioridad en la fila.\n",
            "Digite su nombre DAVID\n",
            "Digite su edad 18\n",
            " DAVID No tienes prioridad\n"
          ]
        }
      ]
    },
    {
      "cell_type": "code",
      "source": [
        "## EJERCICIO 9 / IF\n",
        "\n",
        "print(\"Desarrolla un programa que compare tres números y muestre el mayor.\")\n",
        "\n",
        "## Solicitamos numeros al usuario\n",
        "num1 = int(input(\"Digite un numero: \"))\n",
        "num2 = int(input(\"Digite un numero: \"))\n",
        "num3 = int(input(\"Digite un numero: \"))\n",
        "\n",
        "## Formulas de validacion\n",
        "\n",
        "if num1 > num2 and num1 > num3:\n",
        "  print(\"El numero 1 es el mayor\")\n",
        "elif num2 > num1 and num2 > num3:\n",
        "  print(\"El numero 2 es el mayor\")\n",
        "elif num3 > num2 and num3 > num1:\n",
        "  print(\"El numero 3 es el mayor\")"
      ],
      "metadata": {
        "id": "4oyD2ipNy0ET"
      },
      "execution_count": null,
      "outputs": []
    },
    {
      "cell_type": "code",
      "source": [
        "## EJERCICIO 9 / CASE\n",
        "\n",
        "print(\"Desarrolla un programa que compare tres números y muestre el mayor.\")\n",
        "\n",
        "## Solicitamos numeros al usuario\n",
        "num1 = int(input(\"Digite un numero: \"))\n",
        "num2 = int(input(\"Digite un numero: \"))\n",
        "num3 = int(input(\"Digite un numero: \"))\n",
        "\n",
        "## Formulas de validacion\n",
        "\n",
        "match num1:\n",
        "  case num1 if num1 > num2 and num1 > num3:\n",
        "    print(f\"Numero {num1} es el mayor\")\n",
        "match num2:\n",
        "  case num2 if num2 > num1 and num2 > num3:\n",
        "    print(f\"El numero {num2} es el mayor\")\n",
        "match num3:\n",
        "  case num3 if num3 > num2 and num3 > num1:\n",
        "    print(f\"El numero {num3} es el mayor\")\n",
        "  case _:\n",
        "    print(\"Los numeros son iguales\")"
      ],
      "metadata": {
        "colab": {
          "base_uri": "https://localhost:8080/"
        },
        "id": "BcHH3bhey4ju",
        "outputId": "c4792c12-44c0-4b15-f267-91215029b164"
      },
      "execution_count": null,
      "outputs": [
        {
          "output_type": "stream",
          "name": "stdout",
          "text": [
            "Desarrolla un programa que compare tres números y muestre el mayor.\n",
            "Digite un numero: 1\n",
            "Digite un numero: 1\n",
            "Digite un numero: 1\n",
            "Los numeros son iguales\n"
          ]
        }
      ]
    },
    {
      "cell_type": "code",
      "source": [
        "## EJERCICIO #10 / IF\n",
        "\n",
        "print(\"Crea un programa que determine si un triángulo es equilátero, isósceles o escaleno según sus lados.\")\n",
        "## Solciitamos los lados del triangulo\n",
        "num1 = int(input(\"Digite un numero: \"))\n",
        "num2 = int(input(\"Digite un numero: \"))\n",
        "num3 = int(input(\"Digite un numero: \"))\n",
        "\n",
        "## Formulas de valiadcion\n",
        "\n",
        "if num1 == num2 and num1 == num3:\n",
        "  print(\"Su triangulo es isoceles\")\n",
        "elif num1 == num2 or num1 == num3 or num2 == num3:\n",
        "  print(\"Su triangulo es equilatero\")\n",
        "else:\n",
        "  print(\"Su triangulo es escaleno\")\n",
        "\n"
      ],
      "metadata": {
        "id": "mJMinvq3z-RB"
      },
      "execution_count": null,
      "outputs": []
    },
    {
      "cell_type": "code",
      "source": [
        "## EJERCICIO #10 / CASE\n",
        "\n",
        "print(\"Crea un programa que determine si un triángulo es equilátero, isósceles o escaleno según sus lados.\")\n",
        "## Solciitamos los lados del triangulo\n",
        "num1 = int(input(\"Digite un numero: \"))\n",
        "num2 = int(input(\"Digite un numero: \"))\n",
        "num3 = int(input(\"Digite un numero: \"))\n",
        "\n",
        "## Formulas de valiadcion\n",
        "match num1:\n",
        "  case num1 if num1 == num2 and num1 == num3:\n",
        "    print(\"Su triangulo es equilatero \")\n",
        "  case num1 if num1 == num2 or num1 == num3 or num2 == num3:\n",
        "    print(\"Su triangulo es isoceles\")\n",
        "  case _:\n",
        "    print(\"Su triangulo es escaleno\")\n"
      ],
      "metadata": {
        "colab": {
          "base_uri": "https://localhost:8080/"
        },
        "id": "3BZXV7qV0WAo",
        "outputId": "d1d657dc-b438-423d-d23a-1562db6c0f5b"
      },
      "execution_count": null,
      "outputs": [
        {
          "output_type": "stream",
          "name": "stdout",
          "text": [
            "Crea un programa que determine si un triángulo es equilátero, isósceles o escaleno según sus lados.\n",
            "Digite un numero: 1\n",
            "Digite un numero: 1\n",
            "Digite un numero: 1\n",
            "Su triangulo es equilatero \n"
          ]
        }
      ]
    }
  ]
}