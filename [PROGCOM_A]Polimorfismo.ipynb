{
  "nbformat": 4,
  "nbformat_minor": 0,
  "metadata": {
    "colab": {
      "provenance": []
    },
    "kernelspec": {
      "name": "python3",
      "display_name": "Python 3"
    },
    "language_info": {
      "name": "python"
    }
  },
  "cells": [
    {
      "cell_type": "code",
      "execution_count": null,
      "metadata": {
        "colab": {
          "base_uri": "https://localhost:8080/"
        },
        "id": "IJylI8j4PmX2",
        "outputId": "17dfab04-170c-425f-b1c2-1dd75ad70e42"
      },
      "outputs": [
        {
          "output_type": "stream",
          "name": "stdout",
          "text": [
            "el auto avanza por la carretera\n",
            "la bicicleta avanza por la carretera\n",
            "el avion avanza en el cielo\n"
          ]
        }
      ],
      "source": [
        "class auto:\n",
        "    def mover(self):\n",
        "        print(\"el auto avanza por la carretera\")\n",
        "\n",
        "class bicicleta:\n",
        "    def mover(self):\n",
        "        print(\"la bicicleta avanza por la carretera\")\n",
        "\n",
        "class avion:\n",
        "    def mover(self):\n",
        "        print(\"el avion avanza en el cielo\")\n",
        "\n",
        "vehiculos = [auto(), bicicleta(), avion()]\n",
        "\n",
        "for v in vehiculos:\n",
        "    v.mover()"
      ]
    }
  ]
}